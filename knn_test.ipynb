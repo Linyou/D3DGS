{
 "cells": [
  {
   "cell_type": "code",
   "execution_count": 2,
   "metadata": {},
   "outputs": [],
   "source": [
    "import torch\n",
    "from torch_cluster import knn\n",
    "\n",
    "# x = torch.Tensor([[-1, -1], [-1, 1], [1, -1], [1, 1]]).to(\"cuda\")\n",
    "# y = torch.Tensor([[-1, 0], [1, 0]]).to(\"cuda\")\n",
    "# assign_index = knn(x, y, 2)"
   ]
  },
  {
   "cell_type": "code",
   "execution_count": 3,
   "metadata": {},
   "outputs": [],
   "source": [
    "a = torch.rand(580000, 3).to(\"cuda\")\n",
    "b = torch.rand(580000, 3).to(\"cuda\")"
   ]
  },
  {
   "cell_type": "code",
   "execution_count": 7,
   "metadata": {},
   "outputs": [],
   "source": [
    "assign_index = knn(a, b, 20)"
   ]
  },
  {
   "cell_type": "code",
   "execution_count": 6,
   "metadata": {},
   "outputs": [
    {
     "data": {
      "text/plain": [
       "tensor([[[-1., -1.],\n",
       "         [-1.,  1.]],\n",
       "\n",
       "        [[ 1., -1.],\n",
       "         [ 1.,  1.]]], device='cuda:0')"
      ]
     },
     "execution_count": 6,
     "metadata": {},
     "output_type": "execute_result"
    }
   ],
   "source": [
    "x[assign_index[1]].view(-1, 2, 2)"
   ]
  },
  {
   "cell_type": "code",
   "execution_count": 8,
   "metadata": {},
   "outputs": [
    {
     "data": {
      "text/plain": [
       "torch.Size([2, 11600000])"
      ]
     },
     "execution_count": 8,
     "metadata": {},
     "output_type": "execute_result"
    }
   ],
   "source": [
    "assign_index.shape"
   ]
  },
  {
   "cell_type": "code",
   "execution_count": 9,
   "metadata": {},
   "outputs": [
    {
     "data": {
      "text/plain": [
       "580000.0"
      ]
     },
     "execution_count": 9,
     "metadata": {},
     "output_type": "execute_result"
    }
   ],
   "source": [
    "11600000 / 20"
   ]
  },
  {
   "cell_type": "code",
   "execution_count": 11,
   "metadata": {},
   "outputs": [
    {
     "data": {
      "text/plain": [
       "tensor([132643, 282253,  25615,  ..., 104905, 247215, 244748], device='cuda:0')"
      ]
     },
     "execution_count": 11,
     "metadata": {},
     "output_type": "execute_result"
    }
   ],
   "source": [
    "assign_index[1]"
   ]
  },
  {
   "cell_type": "code",
   "execution_count": 22,
   "metadata": {},
   "outputs": [],
   "source": [
    "import torch\n",
    "from pytorch3d.transforms import quaternion_to_matrix, quaternion_invert"
   ]
  },
  {
   "cell_type": "code",
   "execution_count": 4,
   "metadata": {},
   "outputs": [],
   "source": [
    "rot_mat = quaternion_to_matrix(torch.randn(10, 4))"
   ]
  },
  {
   "cell_type": "code",
   "execution_count": 6,
   "metadata": {},
   "outputs": [
    {
     "data": {
      "text/plain": [
       "torch.Size([10, 3, 3])"
      ]
     },
     "execution_count": 6,
     "metadata": {},
     "output_type": "execute_result"
    }
   ],
   "source": [
    "rot_mat.shape"
   ]
  },
  {
   "cell_type": "code",
   "execution_count": 7,
   "metadata": {},
   "outputs": [],
   "source": [
    "inv_rot = torch.inverse(rot_mat)"
   ]
  },
  {
   "cell_type": "code",
   "execution_count": 12,
   "metadata": {},
   "outputs": [
    {
     "data": {
      "text/plain": [
       "torch.Size([10, 3, 3])"
      ]
     },
     "execution_count": 12,
     "metadata": {},
     "output_type": "execute_result"
    }
   ],
   "source": [
    "inv_rot.shape"
   ]
  },
  {
   "cell_type": "code",
   "execution_count": 11,
   "metadata": {},
   "outputs": [
    {
     "data": {
      "text/plain": [
       "tensor([[ 1.0000e+00,  4.6566e-09,  0.0000e+00],\n",
       "        [-9.3132e-10,  1.0000e+00, -2.9802e-08],\n",
       "        [ 9.3132e-10, -5.9605e-08,  1.0000e+00]])"
      ]
     },
     "execution_count": 11,
     "metadata": {},
     "output_type": "execute_result"
    }
   ],
   "source": [
    "(inv_rot @ rot_mat)[0]"
   ]
  },
  {
   "cell_type": "code",
   "execution_count": 23,
   "metadata": {},
   "outputs": [],
   "source": [
    "tnow_dist = torch.rand(10, 4)"
   ]
  },
  {
   "cell_type": "code",
   "execution_count": 19,
   "metadata": {},
   "outputs": [],
   "source": [
    "fin = inv_rot @ tnow_dist.unsqueeze(-1)"
   ]
  },
  {
   "cell_type": "code",
   "execution_count": 20,
   "metadata": {},
   "outputs": [
    {
     "data": {
      "text/plain": [
       "torch.Size([10, 3, 1])"
      ]
     },
     "execution_count": 20,
     "metadata": {},
     "output_type": "execute_result"
    }
   ],
   "source": [
    "fin.shape"
   ]
  },
  {
   "cell_type": "code",
   "execution_count": 26,
   "metadata": {},
   "outputs": [
    {
     "data": {
      "text/plain": [
       "tensor([[0.6732, 0.0541, 0.8444, 0.6895],\n",
       "        [0.6078, 0.8044, 0.5129, 0.6238],\n",
       "        [0.9720, 0.9525, 0.6325, 0.3721],\n",
       "        [0.6097, 0.6558, 0.0319, 0.1469],\n",
       "        [0.4616, 0.7769, 0.9448, 0.1961],\n",
       "        [0.8593, 0.1252, 0.4825, 0.7721],\n",
       "        [0.8593, 0.3796, 0.9740, 0.4721],\n",
       "        [0.1689, 0.5285, 0.9798, 0.1604],\n",
       "        [0.3185, 0.3067, 0.5354, 0.4452],\n",
       "        [0.3145, 0.5929, 0.3398, 0.4175]])"
      ]
     },
     "execution_count": 26,
     "metadata": {},
     "output_type": "execute_result"
    }
   ],
   "source": [
    "tnow_dist"
   ]
  },
  {
   "cell_type": "code",
   "execution_count": 25,
   "metadata": {},
   "outputs": [
    {
     "data": {
      "text/plain": [
       "tensor([-0.7381, -0.9298, -0.5011, -0.0809, -1.3217, -0.1062, -0.5773, -1.2364,\n",
       "        -0.4774, -0.5423])"
      ]
     },
     "execution_count": 25,
     "metadata": {},
     "output_type": "execute_result"
    }
   ],
   "source": [
    "(tnow_dist * quaternion_invert(tnow_dist)).sum(-1)"
   ]
  },
  {
   "cell_type": "code",
   "execution_count": 27,
   "metadata": {},
   "outputs": [
    {
     "data": {
      "text/plain": [
       "tensor([[ 0.6732, -0.0541, -0.8444, -0.6895],\n",
       "        [ 0.6078, -0.8044, -0.5129, -0.6238],\n",
       "        [ 0.9720, -0.9525, -0.6325, -0.3721],\n",
       "        [ 0.6097, -0.6558, -0.0319, -0.1469],\n",
       "        [ 0.4616, -0.7769, -0.9448, -0.1961],\n",
       "        [ 0.8593, -0.1252, -0.4825, -0.7721],\n",
       "        [ 0.8593, -0.3796, -0.9740, -0.4721],\n",
       "        [ 0.1689, -0.5285, -0.9798, -0.1604],\n",
       "        [ 0.3185, -0.3067, -0.5354, -0.4452],\n",
       "        [ 0.3145, -0.5929, -0.3398, -0.4175]])"
      ]
     },
     "execution_count": 27,
     "metadata": {},
     "output_type": "execute_result"
    }
   ],
   "source": [
    "quaternion_invert(tnow_dist)"
   ]
  },
  {
   "cell_type": "code",
   "execution_count": null,
   "metadata": {},
   "outputs": [],
   "source": []
  }
 ],
 "metadata": {
  "kernelspec": {
   "display_name": "torch2",
   "language": "python",
   "name": "python3"
  },
  "language_info": {
   "codemirror_mode": {
    "name": "ipython",
    "version": 3
   },
   "file_extension": ".py",
   "mimetype": "text/x-python",
   "name": "python",
   "nbconvert_exporter": "python",
   "pygments_lexer": "ipython3",
   "version": "3.10.9"
  },
  "orig_nbformat": 4
 },
 "nbformat": 4,
 "nbformat_minor": 2
}
